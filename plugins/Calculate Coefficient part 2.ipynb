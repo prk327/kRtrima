{
 "cells": [
  {
   "cell_type": "code",
   "execution_count": 1,
   "metadata": {},
   "outputs": [],
   "source": [
    "import numpy as np\n",
    "from scipy import linalg\n",
    "import pandas as pd\n",
    "import matplotlib.pyplot as plt\n",
    "\n",
    "# the commonly used alias for seaborn is sns\n",
    "import seaborn as sns\n",
    "\n",
    "# set a seaborn style of your taste\n",
    "sns.set_style(\"whitegrid\")"
   ]
  },
  {
   "cell_type": "code",
   "execution_count": 2,
   "metadata": {},
   "outputs": [],
   "source": [
    "df = pd.read_excel('Demo_DataSets.xlsx')"
   ]
  },
  {
   "cell_type": "code",
   "execution_count": 3,
   "metadata": {},
   "outputs": [
    {
     "data": {
      "text/html": [
       "<div>\n",
       "<style scoped>\n",
       "    .dataframe tbody tr th:only-of-type {\n",
       "        vertical-align: middle;\n",
       "    }\n",
       "\n",
       "    .dataframe tbody tr th {\n",
       "        vertical-align: top;\n",
       "    }\n",
       "\n",
       "    .dataframe thead th {\n",
       "        text-align: right;\n",
       "    }\n",
       "</style>\n",
       "<table border=\"1\" class=\"dataframe\">\n",
       "  <thead>\n",
       "    <tr style=\"text-align: right;\">\n",
       "      <th></th>\n",
       "      <th>Marketing Budget (X) (In lakhs)</th>\n",
       "      <th>Actual Sales(Y) (In crores)</th>\n",
       "    </tr>\n",
       "  </thead>\n",
       "  <tbody>\n",
       "    <tr>\n",
       "      <th>0</th>\n",
       "      <td>127.4</td>\n",
       "      <td>10.5</td>\n",
       "    </tr>\n",
       "    <tr>\n",
       "      <th>1</th>\n",
       "      <td>364.4</td>\n",
       "      <td>21.4</td>\n",
       "    </tr>\n",
       "    <tr>\n",
       "      <th>2</th>\n",
       "      <td>150.0</td>\n",
       "      <td>10.0</td>\n",
       "    </tr>\n",
       "    <tr>\n",
       "      <th>3</th>\n",
       "      <td>128.7</td>\n",
       "      <td>9.6</td>\n",
       "    </tr>\n",
       "    <tr>\n",
       "      <th>4</th>\n",
       "      <td>285.9</td>\n",
       "      <td>17.4</td>\n",
       "    </tr>\n",
       "    <tr>\n",
       "      <th>5</th>\n",
       "      <td>200.0</td>\n",
       "      <td>12.5</td>\n",
       "    </tr>\n",
       "    <tr>\n",
       "      <th>6</th>\n",
       "      <td>303.3</td>\n",
       "      <td>20.0</td>\n",
       "    </tr>\n",
       "    <tr>\n",
       "      <th>7</th>\n",
       "      <td>315.7</td>\n",
       "      <td>21.0</td>\n",
       "    </tr>\n",
       "    <tr>\n",
       "      <th>8</th>\n",
       "      <td>169.8</td>\n",
       "      <td>14.7</td>\n",
       "    </tr>\n",
       "    <tr>\n",
       "      <th>9</th>\n",
       "      <td>104.9</td>\n",
       "      <td>10.1</td>\n",
       "    </tr>\n",
       "    <tr>\n",
       "      <th>10</th>\n",
       "      <td>297.7</td>\n",
       "      <td>21.5</td>\n",
       "    </tr>\n",
       "    <tr>\n",
       "      <th>11</th>\n",
       "      <td>256.4</td>\n",
       "      <td>16.6</td>\n",
       "    </tr>\n",
       "    <tr>\n",
       "      <th>12</th>\n",
       "      <td>249.1</td>\n",
       "      <td>17.1</td>\n",
       "    </tr>\n",
       "    <tr>\n",
       "      <th>13</th>\n",
       "      <td>323.1</td>\n",
       "      <td>20.7</td>\n",
       "    </tr>\n",
       "    <tr>\n",
       "      <th>14</th>\n",
       "      <td>223.0</td>\n",
       "      <td>15.5</td>\n",
       "    </tr>\n",
       "    <tr>\n",
       "      <th>15</th>\n",
       "      <td>235.0</td>\n",
       "      <td>13.5</td>\n",
       "    </tr>\n",
       "    <tr>\n",
       "      <th>16</th>\n",
       "      <td>200.0</td>\n",
       "      <td>12.5</td>\n",
       "    </tr>\n",
       "  </tbody>\n",
       "</table>\n",
       "</div>"
      ],
      "text/plain": [
       "    Marketing Budget (X) (In lakhs)  Actual Sales(Y) (In crores)\n",
       "0                             127.4                         10.5\n",
       "1                             364.4                         21.4\n",
       "2                             150.0                         10.0\n",
       "3                             128.7                          9.6\n",
       "4                             285.9                         17.4\n",
       "5                             200.0                         12.5\n",
       "6                             303.3                         20.0\n",
       "7                             315.7                         21.0\n",
       "8                             169.8                         14.7\n",
       "9                             104.9                         10.1\n",
       "10                            297.7                         21.5\n",
       "11                            256.4                         16.6\n",
       "12                            249.1                         17.1\n",
       "13                            323.1                         20.7\n",
       "14                            223.0                         15.5\n",
       "15                            235.0                         13.5\n",
       "16                            200.0                         12.5"
      ]
     },
     "execution_count": 3,
     "metadata": {},
     "output_type": "execute_result"
    }
   ],
   "source": [
    "df"
   ]
  },
  {
   "cell_type": "code",
   "execution_count": 4,
   "metadata": {},
   "outputs": [
    {
     "name": "stdout",
     "output_type": "stream",
     "text": [
      "(17, 2)\n"
     ]
    },
    {
     "data": {
      "image/png": "[encoded data removed]",
      "text/plain": [
       "<Figure size 432x288 with 1 Axes>"
      ]
     },
     "metadata": {},
     "output_type": "display_data"
    }
   ],
   "source": [
    "print(df.shape)\n",
    "\n",
    "plt.scatter(df['Marketing Budget (X) (In lakhs)'], df['Actual Sales(Y) (In crores)'])\n",
    "plt.show();"
   ]
  },
  {
   "cell_type": "code",
   "execution_count": 5,
   "metadata": {},
   "outputs": [
    {
     "data": {
      "image/png": "[encoded data removed]",
      "text/plain": [
       "<Figure size 432x432 with 3 Axes>"
      ]
     },
     "metadata": {},
     "output_type": "display_data"
    }
   ],
   "source": [
    "# joint plots of Profit and Sales\n",
    "\n",
    "sns.jointplot('Marketing Budget (X) (In lakhs)', 'Actual Sales(Y) (In crores)', df)\n",
    "plt.show()"
   ]
  },
  {
   "cell_type": "markdown",
   "metadata": {},
   "source": [
    "### Now lets also check the distribution of marketing and sales"
   ]
  },
  {
   "cell_type": "code",
   "execution_count": 6,
   "metadata": {},
   "outputs": [
    {
     "data": {
      "image/png": "[encoded data removed]",
      "text/plain": [
       "<Figure size 432x288 with 1 Axes>"
      ]
     },
     "metadata": {},
     "output_type": "display_data"
    }
   ],
   "source": [
    "df['Marketing Budget (X) (In lakhs)'].plot(kind='box');"
   ]
  },
  {
   "cell_type": "code",
   "execution_count": 7,
   "metadata": {},
   "outputs": [
    {
     "data": {
      "text/plain": [
       "231.43529411764703"
      ]
     },
     "execution_count": 7,
     "metadata": {},
     "output_type": "execute_result"
    }
   ],
   "source": [
    "df['Marketing Budget (X) (In lakhs)'].mean()"
   ]
  },
  {
   "cell_type": "code",
   "execution_count": 8,
   "metadata": {},
   "outputs": [
    {
     "data": {
      "text/plain": [
       "235.0"
      ]
     },
     "execution_count": 8,
     "metadata": {},
     "output_type": "execute_result"
    }
   ],
   "source": [
    "df['Marketing Budget (X) (In lakhs)'].median()"
   ]
  },
  {
   "cell_type": "code",
   "execution_count": 9,
   "metadata": {},
   "outputs": [
    {
     "data": {
      "image/png": "[encoded data removed]",
      "text/plain": [
       "<Figure size 432x288 with 1 Axes>"
      ]
     },
     "metadata": {},
     "output_type": "display_data"
    }
   ],
   "source": [
    "df['Actual Sales(Y) (In crores)'].plot(kind='box');"
   ]
  },
  {
   "cell_type": "markdown",
   "metadata": {},
   "source": [
    "from the above distribution we see that the x variable is normally distributed, since it's mean and median are same,\n",
    " so we do not need to standardize the x variable"
   ]
  },
  {
   "cell_type": "markdown",
   "metadata": {},
   "source": [
    "we know that the Equation of a straight line is:  \n",
    "y = mx + b\n",
    "\n",
    "So, The Equation of a Tangent line at any point x will be:  \n",
    "f(x) = mx + b\n",
    "\n",
    "We already know y and x, therefore in order to solve the above equation we need m which is:  \n",
    "m = y2 - y1 / x2 - x1\n",
    "\n",
    "Also, we need to calculate the cost function a simple MSE:\n",
    "\\begin{equation*}\n",
    "f(MSE) = \\frac{1}{n}\\sum_{i=1}^{n} (y_{i} - (m*x_{i} + b))^{2}\n",
    "\\end{equation*}\n",
    "\n",
    "Now, in order to find out the optimal value of M and B, we need to find the Slope of the above equation with respect of M:\n",
    "\\begin{equation*}\n",
    "\\frac{d(MSE)}{dm} = \\frac{2}{n}\\sum_{i=1}^{n} -x_{i}(y_{i} - (m*x_{i} + b))\n",
    "\\end{equation*}\n",
    "\n",
    "and with respect to B:\n",
    "\\begin{equation*}\n",
    "\\frac{d(MSE)}{db} = \\frac{2}{n}\\sum_{i=1}^{n} (y_{i} - (m*x_{i} + b))\n",
    "\\end{equation*}\n",
    "\n",
    "Now, we need to iterate through the initial value of M and B which we found in the first stage  \n",
    "and on each iteration we need to check the value of slope of MSE with respect to M and B, and  \n",
    "if it is very very small we are done with our gredient descent\n",
    "\n",
    "But, in order to find out the optimal value of M and B, we need to keep guessing..\n",
    "and in order to do so we need to add or suptract M and B by certain number. That certain number is called \n",
    "Learning Rate \"LR\", which means how much do we need to adjust M or B to reach optimal MSE or slope close to 0\n",
    "\n",
    "so we take the learning rate as 0.02 and multiply with the slope to get the adjustment needed for M or B\n",
    "\n",
    "LR = 0.02\n",
    "\n",
    "Adjustment In M can be defind as below:\n",
    "\n",
    "\\begin{equation*}\n",
    "\\triangle_{M_{n}} = \\frac{d(MSE)}{dm_{n}} * LR\n",
    "\\end{equation*}\n",
    "\n",
    "Adjustment In B can be defind as below:\n",
    "\n",
    "\\begin{equation*}\n",
    "\\triangle_{B_{n}} = \\frac{d(MSE)}{db_{n}} * LR\n",
    "\\end{equation*}\n",
    "\n",
    "after we found out the adjustment in M and B, we need to again recalculate the MSE by subtracting the M and B from \n",
    "the previous value of M and B\n",
    "\n",
    "Suppose the Initial value of: \n",
    "\n",
    "\\begin{equation*}\n",
    "M_{1} = 0 ;  B_{1} = 0\n",
    "\\end{equation*}\n",
    "\n",
    "therefore the nth value of M and B:\n",
    "\\begin{equation*}\n",
    "M_{n} = M_{n-1} - \\triangle_{M_{n-1}}\n",
    "\\end{equation*}\n",
    "\n",
    "\\begin{equation*}\n",
    "B_{n} = B_{n-1} - \\triangle_{B_{n-1}}\n",
    "\\end{equation*}\n",
    "\n",
    "Now, the question is when is to stop the iteration, we will use RELU activation which is MAX(0, f(x))\n",
    "\n",
    "which means the f(x) of the tanget line at any point in x cannot be less than 0"
   ]
  },
  {
   "cell_type": "markdown",
   "metadata": {},
   "source": [
    "#### Now lets calculate the initial value of M and B using matrix multiplication"
   ]
  },
  {
   "cell_type": "code",
   "execution_count": 10,
   "metadata": {},
   "outputs": [],
   "source": [
    "# so first we need to convert our data sets into matrix form\n",
    "# but first we need to introduce a new column with only 1 for matrix multiplication"
   ]
  },
  {
   "cell_type": "code",
   "execution_count": 11,
   "metadata": {},
   "outputs": [],
   "source": [
    "df[\"X_prime\"] = pd.DataFrame([1 for item in range(len(df['Marketing Budget (X) (In lakhs)']))])"
   ]
  },
  {
   "cell_type": "code",
   "execution_count": 12,
   "metadata": {},
   "outputs": [],
   "source": [
    "X = df[[\"X_prime\", \"Marketing Budget (X) (In lakhs)\"]].to_numpy()"
   ]
  },
  {
   "cell_type": "code",
   "execution_count": 13,
   "metadata": {},
   "outputs": [
    {
     "data": {
      "text/plain": [
       "(17, 2)"
      ]
     },
     "execution_count": 13,
     "metadata": {},
     "output_type": "execute_result"
    }
   ],
   "source": [
    "X.shape"
   ]
  },
  {
   "cell_type": "code",
   "execution_count": 14,
   "metadata": {},
   "outputs": [
    {
     "data": {
      "text/plain": [
       "array([[  1. , 127.4],\n",
       "       [  1. , 364.4],\n",
       "       [  1. , 150. ],\n",
       "       [  1. , 128.7],\n",
       "       [  1. , 285.9],\n",
       "       [  1. , 200. ],\n",
       "       [  1. , 303.3],\n",
       "       [  1. , 315.7],\n",
       "       [  1. , 169.8],\n",
       "       [  1. , 104.9],\n",
       "       [  1. , 297.7],\n",
       "       [  1. , 256.4],\n",
       "       [  1. , 249.1],\n",
       "       [  1. , 323.1],\n",
       "       [  1. , 223. ],\n",
       "       [  1. , 235. ],\n",
       "       [  1. , 200. ]])"
      ]
     },
     "execution_count": 14,
     "metadata": {},
     "output_type": "execute_result"
    }
   ],
   "source": [
    "X"
   ]
  },
  {
   "cell_type": "code",
   "execution_count": 15,
   "metadata": {},
   "outputs": [],
   "source": [
    "# Now we also need to convert y to numpy array\n",
    "Y = df[\"Actual Sales(Y) (In crores)\"].to_numpy()"
   ]
  },
  {
   "cell_type": "code",
   "execution_count": 16,
   "metadata": {},
   "outputs": [
    {
     "data": {
      "text/plain": [
       "array([10.5, 21.4, 10. ,  9.6, 17.4, 12.5, 20. , 21. , 14.7, 10.1, 21.5,\n",
       "       16.6, 17.1, 20.7, 15.5, 13.5, 12.5])"
      ]
     },
     "execution_count": 16,
     "metadata": {},
     "output_type": "execute_result"
    }
   ],
   "source": [
    "Y"
   ]
  },
  {
   "cell_type": "markdown",
   "metadata": {},
   "source": [
    "Now the matrix form to calculate the M and B is:  \n",
    "\\begin{equation*}\n",
    "\\begin{bmatrix}b \\\\m \\end{bmatrix} = (\\begin{bmatrix}X\\end{bmatrix}^{T} \\begin{bmatrix}X\\end{bmatrix})^{-1} \\begin{bmatrix}X\\end{bmatrix}^{T}Y\n",
    "\\end{equation*}"
   ]
  },
  {
   "cell_type": "code",
   "execution_count": 17,
   "metadata": {},
   "outputs": [],
   "source": [
    "# Multiply X by its transpose\n",
    "A = X.transpose().dot(X)"
   ]
  },
  {
   "cell_type": "code",
   "execution_count": 18,
   "metadata": {},
   "outputs": [],
   "source": [
    "# Calculate the inverse of A\n",
    "B = linalg.inv(A)"
   ]
  },
  {
   "cell_type": "code",
   "execution_count": 19,
   "metadata": {},
   "outputs": [],
   "source": [
    "# Multiply the result by the transpose of X\n",
    "C = B.dot(X.transpose())"
   ]
  },
  {
   "cell_type": "code",
   "execution_count": 20,
   "metadata": {},
   "outputs": [],
   "source": [
    "# Multiply the result by the vector Y:\n",
    "D = C.dot(Y)"
   ]
  },
  {
   "cell_type": "code",
   "execution_count": 21,
   "metadata": {},
   "outputs": [
    {
     "data": {
      "text/plain": [
       "array([3.35249683, 0.05276727])"
      ]
     },
     "execution_count": 21,
     "metadata": {},
     "output_type": "execute_result"
    }
   ],
   "source": [
    "# now we have the intercept and slope that we can use as an initial value for Gredient descent\n",
    "D"
   ]
  },
  {
   "cell_type": "code",
   "execution_count": null,
   "metadata": {},
   "outputs": [],
   "source": []
  },
  {
   "cell_type": "code",
   "execution_count": null,
   "metadata": {},
   "outputs": [],
   "source": [
    "    "
   ]
  },
  {
   "cell_type": "code",
   "execution_count": null,
   "metadata": {},
   "outputs": [],
   "source": []
  },
  {
   "cell_type": "code",
   "execution_count": null,
   "metadata": {},
   "outputs": [],
   "source": []
  },
  {
   "cell_type": "code",
   "execution_count": null,
   "metadata": {},
   "outputs": [],
   "source": []
  },
  {
   "cell_type": "code",
   "execution_count": null,
   "metadata": {},
   "outputs": [],
   "source": []
  },
  {
   "cell_type": "code",
   "execution_count": null,
   "metadata": {},
   "outputs": [],
   "source": []
  },
  {
   "cell_type": "code",
   "execution_count": null,
   "metadata": {},
   "outputs": [],
   "source": []
  },
  {
   "cell_type": "code",
   "execution_count": null,
   "metadata": {},
   "outputs": [],
   "source": []
  },
  {
   "cell_type": "markdown",
   "metadata": {},
   "source": []
  },
  {
   "cell_type": "code",
   "execution_count": null,
   "metadata": {},
   "outputs": [],
   "source": []
  },
  {
   "cell_type": "code",
   "execution_count": null,
   "metadata": {},
   "outputs": [],
   "source": []
  },
  {
   "cell_type": "code",
   "execution_count": null,
   "metadata": {},
   "outputs": [],
   "source": []
  },
  {
   "cell_type": "code",
   "execution_count": null,
   "metadata": {},
   "outputs": [],
   "source": []
  },
  {
   "cell_type": "code",
   "execution_count": null,
   "metadata": {},
   "outputs": [],
   "source": []
  },
  {
   "cell_type": "code",
   "execution_count": null,
   "metadata": {},
   "outputs": [],
   "source": []
  },
  {
   "cell_type": "code",
   "execution_count": null,
   "metadata": {},
   "outputs": [],
   "source": []
  },
  {
   "cell_type": "code",
   "execution_count": null,
   "metadata": {},
   "outputs": [],
   "source": []
  },
  {
   "cell_type": "code",
   "execution_count": null,
   "metadata": {},
   "outputs": [],
   "source": []
  },
  {
   "cell_type": "code",
   "execution_count": null,
   "metadata": {},
   "outputs": [],
   "source": []
  },
  {
   "cell_type": "code",
   "execution_count": null,
   "metadata": {},
   "outputs": [],
   "source": []
  },
  {
   "cell_type": "code",
   "execution_count": null,
   "metadata": {},
   "outputs": [],
   "source": [
    "\n",
    "                                                                                                                                                         "
   ]
  }
 ],
 "metadata": {
  "kernelspec": {
   "display_name": "Python 3",
   "language": "python",
   "name": "python3"
  },
  "language_info": {
   "codemirror_mode": {
    "name": "ipython",
    "version": 3
   },
   "file_extension": ".py",
   "mimetype": "text/x-python",
   "name": "python",
   "nbconvert_exporter": "python",
   "pygments_lexer": "ipython3",
   "version": "3.7.5"
  }
 },
 "nbformat": 4,
 "nbformat_minor": 4
}
